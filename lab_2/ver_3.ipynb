{
 "cells": [
  {
   "cell_type": "code",
   "execution_count": 12,
   "metadata": {},
   "outputs": [],
   "source": [
    "import numpy as np\n",
    "np.set_printoptions(suppress=True,precision=7)"
   ]
  },
  {
   "cell_type": "markdown",
   "metadata": {},
   "source": [
    "# Лабораторна робота №2"
   ]
  },
  {
   "cell_type": "markdown",
   "metadata": {},
   "source": [
    "## Цільова функція:"
   ]
  },
  {
   "cell_type": "markdown",
   "metadata": {},
   "source": [
    "$$11x^2 + 14y^2 + z^2 + 0,01xy - 0,001yz - y$$"
   ]
  },
  {
   "cell_type": "code",
   "execution_count": 20,
   "metadata": {},
   "outputs": [],
   "source": [
    "target_function = lambda x: 11*x[0]**2 + 14*x[1]**2 + x[2]**2 + 0.01*x[0]*x[1] - 0.001*x[1]*x[2] - x[1]"
   ]
  },
  {
   "cell_type": "markdown",
   "metadata": {},
   "source": [
    "## Умови зупинки:"
   ]
  },
  {
   "cell_type": "markdown",
   "metadata": {},
   "source": [
    "$$||x^{k+1} - x^k||\\leq\\epsilon$$"
   ]
  },
  {
   "cell_type": "code",
   "execution_count": 21,
   "metadata": {},
   "outputs": [],
   "source": [
    "def x_norm_stop(x_prev,x_cur,epselon):\n",
    "    return np.linalg.norm(x_prev-x_cur) < epselon"
   ]
  },
  {
   "cell_type": "markdown",
   "metadata": {},
   "source": [
    "$$||f(x^{k+1}) - f(x^k)||\\leq\\epsilon$$"
   ]
  },
  {
   "cell_type": "code",
   "execution_count": 22,
   "metadata": {},
   "outputs": [],
   "source": [
    "def func_abs_stop(func_prev,func_cur,epselon):\n",
    "    return abs(func_prev - func_cur) < epselon"
   ]
  },
  {
   "cell_type": "markdown",
   "metadata": {},
   "source": [
    "$$||f'(x^{k+1})||\\leq\\epsilon$$"
   ]
  },
  {
   "cell_type": "code",
   "execution_count": 23,
   "metadata": {},
   "outputs": [],
   "source": [
    "def grad_abs_stop(grad,epselon):\n",
    "    return np.linalg.norm(grad)<epselon"
   ]
  },
  {
   "cell_type": "markdown",
   "metadata": {},
   "source": [
    "## Метод Ньютона"
   ]
  },
  {
   "cell_type": "code",
   "execution_count": 24,
   "metadata": {},
   "outputs": [],
   "source": [
    "class NeutonMethod:\n",
    "    \n",
    "    def __init__(self, target_func, initial_x, grad_step_size, \n",
    "                 step_size=1,  adaptive_beta=0, adaptive_epselon=0, fastest_descent_eps=0):\n",
    "        self.f = target_func\n",
    "        self.x = initial_x\n",
    "        \n",
    "        self.f_value = self.f(self.x)\n",
    "        \n",
    "        self.grad_step_size = grad_step_size\n",
    "        self.step_size = step_size\n",
    "        self.adaptive_beta = adaptive_beta\n",
    "        self.adaptive_epselon = adaptive_epselon\n",
    "        self.initial_step_size = step_size\n",
    "        self.fastest_descent_eps = fastest_descent_eps\n",
    "        \n",
    "        self.grad = None\n",
    "        self.gesse_matrix = None\n",
    "        \n",
    "    @staticmethod\n",
    "    def first_partial_deriv(f, x, h, var_num):\n",
    "        x_back, x_forward = x.copy(), x.copy()\n",
    "        \n",
    "        # Increase x_back in such a way: (x-h;y)\n",
    "        x_back[var_num] = x_back[var_num] - h \n",
    "        # Increase x_forward in such a way: (x+h;y)\n",
    "        x_forward[var_num] = x_forward[var_num] + h\n",
    "        \n",
    "        return (f(x_forward) - f(x_back))/(2*h)\n",
    "    \n",
    "    @staticmethod\n",
    "    def compose_grad_vec(f, x, h):\n",
    "        # Compose vector from partial derivatives\n",
    "        return np.array([NeutonMethod.first_partial_deriv(f,x,h,i) for i in range(x.shape[0])])\n",
    "    \n",
    "    @staticmethod\n",
    "    def second_partial_deriv(f, x, h, var_1_num, var_2_num):\n",
    "        x_back_back, x_back_for, x_for_back, x_for_for = x.copy(), x.copy(), x.copy(), x.copy()\n",
    "        \n",
    "        # Increase x_back_back in such a way: (x-h;y-h)\n",
    "        x_back_back[var_1_num] = x_back_back[var_1_num] -h\n",
    "        x_back_back[var_2_num] = x_back_back[var_2_num] -h\n",
    "        \n",
    "        # Increase x_back_for in such a way: (x-h;y+h)\n",
    "        x_back_for[var_1_num] = x_back_for[var_1_num] -h\n",
    "        x_back_for[var_2_num] = x_back_for[var_2_num] +h\n",
    "        \n",
    "        # Increase x_for_back in such a way: (x+h;y-h)\n",
    "        x_for_back[var_1_num] = x_for_back[var_1_num] +h\n",
    "        x_for_back[var_2_num] = x_for_back[var_2_num] -h\n",
    "        \n",
    "        # Increase x_for_for in such a way: (x+h;y+h)\n",
    "        x_for_for[var_1_num] = x_for_for[var_1_num] +h\n",
    "        x_for_for[var_2_num] = x_for_for[var_2_num] +h\n",
    "        \n",
    "        return (f(x_back_back) - f(x_back_for) - f(x_for_back) + f(x_for_for))/(4*h**2)\n",
    "    \n",
    "    @staticmethod\n",
    "    def compose_gesse_matrix(f, x, h):\n",
    "        gesse_matrix = np.zeros((x.shape[0],x.shape[0]))\n",
    "        \n",
    "        # Fill elements only under and in diagonal and copy elements upper diagonal (Gesse matrix is semetric)\n",
    "        for i in range(gesse_matrix.shape[0]):\n",
    "            for j in range(i+1):\n",
    "                gesse_matrix[i,j] = NeutonMethod.second_partial_deriv(f,x,h,i,j)\n",
    "                gesse_matrix[j,i] = gesse_matrix[i,j]\n",
    "                \n",
    "        return gesse_matrix\n",
    "    \n",
    "    '''\n",
    "    @staticmethod\n",
    "    def adaptive_step_size(f, current_f_value, alpha, beta):\n",
    "        # decrease alpha_k until f(x_k) > f(x_k - alpha_k * inversed(f(x_k)'')f(x_k)')\n",
    "        while current_f_value < f(alpha):\n",
    "            alpha = alpha * beta\n",
    "            \n",
    "        return alpha\n",
    "    '''\n",
    "    \n",
    "    @staticmethod\n",
    "    def adaptive_step_size(f, current_f_value, grad, direction, alpha, beta, epselon):\n",
    "        while f(alpha) - current_f_value > epselon*alpha*(grad@direction):\n",
    "            alpha = alpha * beta\n",
    "            \n",
    "        return alpha\n",
    "\n",
    "    \n",
    "    @staticmethod\n",
    "    def gold_section_search(f, a, b, eps):\n",
    "        phi = 0.5 * (1.0 + 5.0**0.5)\n",
    "        \n",
    "        while abs(b-a) >= eps:\n",
    "            x_1 = b - (b-a)/phi\n",
    "            x_2 = a + (b-a)/phi\n",
    "            \n",
    "            if f(x_1) > f(x_2):\n",
    "                a = x_1\n",
    "            else:\n",
    "                b = x_2\n",
    "                \n",
    "        return (a+b)/2\n",
    "        \n",
    "    def backward(self):\n",
    "        self.grad = NeutonMethod.compose_grad_vec(self.f, self.x, self.grad_step_size) \n",
    "        self.gesse_matrix = NeutonMethod.compose_gesse_matrix(self.f, self.x, self.grad_step_size)\n",
    "        \n",
    "    def zero_grad(self):\n",
    "        self.grad = np.zeros(self.x.shape[0])\n",
    "        self.gesse_matrix = np.zeros((self.x.shape[0],self.x.shape[0]))\n",
    "        \n",
    "    def step(self):\n",
    "        '''\n",
    "        self.step_size = NeutonMethod.second_adaptive(f=lambda alpha: self.f(self.x - alpha * np.linalg.inv(self.gesse_matrix) @ self.grad),\n",
    "                                                         current_f_value=self.f_value, grad=self.grad,\n",
    "                                                         direction=-np.linalg.inv(self.gesse_matrix)@self.grad,\n",
    "                                                         alpha=self.initial_step_size, beta=self.adaptive_beta,\n",
    "                                                         epselon=0.25)\n",
    "        \n",
    "        '''\n",
    "        # if beta > 0 and epselon > 0 we are using adaptive step_size\n",
    "        if self.adaptive_beta > 0 and self.adaptive_epselon > 0:\n",
    "            self.step_size = NeutonMethod.adaptive_step_size(f=lambda alpha: self.f(self.x - alpha * np.linalg.inv(self.gesse_matrix) @ self.grad),\n",
    "                                                             current_f_value=self.f_value, grad=self.grad,\n",
    "                                                             direction=-np.linalg.inv(self.gesse_matrix)@self.grad,\n",
    "                                                             alpha=self.initial_step_size, beta=self.adaptive_beta,\n",
    "                                                             epselon=self.adaptive_epselon)\n",
    "        \n",
    "        # if fastest descent epselon > 0 we are using fastest descent algorithm\n",
    "        elif self.fastest_descent_eps > 0:\n",
    "            self.step_size = NeutonMethod.gold_section_search(f=lambda alpha: self.f(self.x - alpha * np.linalg.inv(self.gesse_matrix) @ self.grad),\n",
    "                                                              a=0, b=self.initial_step_size, \n",
    "                                                              eps=self.fastest_descent_eps)\n",
    "        \n",
    "        # x_k+1 = x_k - alpha_k * inversed(f(x_k)'')f(x_k)'\n",
    "        self.x = self.x - self.step_size * np.linalg.inv(self.gesse_matrix) @ self.grad\n",
    "        self.f_value = self.f(self.x)\n",
    "        \n",
    "    def info(self):\n",
    "        print('Current x: {}'.format(self.x))\n",
    "        print('Current f(x): {}'.format(self.f_value))\n",
    "        print('Current grad: {}'.format(self.grad))\n",
    "        print('Current gesse matrix:\\n {}'.format(self.gesse_matrix))\n",
    "        print('Step size: {}'.format(self.step_size))\n",
    "        print('Gradient step size: {}'.format(self.grad_step_size))"
   ]
  },
  {
   "cell_type": "markdown",
   "metadata": {},
   "source": [
    "Застосуємо метод з величиною кроку = 1"
   ]
  },
  {
   "cell_type": "code",
   "execution_count": 27,
   "metadata": {},
   "outputs": [],
   "source": [
    "neuton_descent = NeutonMethod(target_func=target_function,\n",
    "                              initial_x=np.array([1000.,1000.,1000.]),\n",
    "                              grad_step_size=1)"
   ]
  },
  {
   "cell_type": "code",
   "execution_count": 28,
   "metadata": {},
   "outputs": [
    {
     "name": "stdout",
     "output_type": "stream",
     "text": [
      "\n",
      "Itteration: 1\n",
      "Current x: [-0.0000162  0.0357144  0.0000187]\n",
      "Current f(x): -0.01785714607392642\n",
      "Current grad: [22010. 28008.  1999.]\n",
      "Current gesse matrix:\n",
      " [[22.     0.01   0.   ]\n",
      " [ 0.01  28.    -0.001]\n",
      " [ 0.    -0.001  2.   ]]\n",
      "Step size: 1\n",
      "Gradient step size: 1\n",
      "\n",
      "Converged in 1 itterations\n"
     ]
    }
   ],
   "source": [
    "eps = 0.001\n",
    "num_itter = 0\n",
    "previous_x = neuton_descent.x + eps + 1\n",
    "\n",
    "while not grad_abs_stop(NeutonMethod.compose_grad_vec(f=neuton_descent.f, \n",
    "                                                      h=neuton_descent.step_size, \n",
    "                                                      x=neuton_descent.x), eps):\n",
    "    num_itter +=1\n",
    "    print('\\nItteration: {}'.format(num_itter))\n",
    "    \n",
    "    previous_x = neuton_descent.x\n",
    "    neuton_descent.zero_grad()\n",
    "    # Compute gradient and gesse matrix\n",
    "    neuton_descent.backward()\n",
    "    # x_k+1 = x_k + h_k\n",
    "    neuton_descent.step()\n",
    "    neuton_descent.info()\n",
    "    \n",
    "print('\\nConverged in {} itterations'.format(num_itter))"
   ]
  },
  {
   "cell_type": "code",
   "execution_count": 27,
   "metadata": {},
   "outputs": [
    {
     "data": {
      "text/plain": [
       "array([15679999.0000513,      967.9920921,        7.9992852])"
      ]
     },
     "execution_count": 27,
     "metadata": {},
     "output_type": "execute_result"
    }
   ],
   "source": [
    "egin_values = np.linalg.eig(NeutonMethod.compose_gesse_matrix(f=neuton_descent.f, h=neuton_descent.step_size, x=neuton_descent.x))[0]\n",
    "egin_values"
   ]
  },
  {
   "cell_type": "code",
   "execution_count": 28,
   "metadata": {},
   "outputs": [
    {
     "data": {
      "text/plain": [
       "5.101585282973253e-07"
      ]
     },
     "execution_count": 28,
     "metadata": {},
     "output_type": "execute_result"
    }
   ],
   "source": [
    "abs(egin_values.min()/egin_values.max())"
   ]
  },
  {
   "cell_type": "markdown",
   "metadata": {},
   "source": [
    "Застосуємо метод з постійною величиною кроку"
   ]
  },
  {
   "cell_type": "code",
   "execution_count": null,
   "metadata": {},
   "outputs": [],
   "source": [
    "neuton_descent = NeutonMethod(target_func=target_function,\n",
    "                              initial_x=np.array([10.,10.,10.]),\n",
    "                              grad_step_size=0.00001,\n",
    "                              step_size=0.1)"
   ]
  },
  {
   "cell_type": "code",
   "execution_count": null,
   "metadata": {},
   "outputs": [],
   "source": [
    "eps = 0.00001\n",
    "num_itter = 0\n",
    "previous_x = neuton_descent.x + eps + 1\n",
    "\n",
    "while not grad_abs_stop(NeutonMethod.compose_grad_vec(f=neuton_descent.f, \n",
    "                                                      h=neuton_descent.step_size, \n",
    "                                                      x=neuton_descent.x), eps):\n",
    "    num_itter +=1\n",
    "    print('\\nItteration: {}'.format(num_itter))\n",
    "    \n",
    "    previous_x = neuton_descent.x\n",
    "    neuton_descent.zero_grad()\n",
    "    # Compute gradient and gesse matrix\n",
    "    neuton_descent.backward()\n",
    "    # x_k+1 = x_k + h_k\n",
    "    neuton_descent.step()\n",
    "    neuton_descent.info()\n",
    "    \n",
    "print('\\nConverged in {} itterations'.format(num_itter))"
   ]
  },
  {
   "cell_type": "markdown",
   "metadata": {},
   "source": [
    "Застосуємо метод з адаптивною величиною кроку"
   ]
  },
  {
   "cell_type": "code",
   "execution_count": null,
   "metadata": {},
   "outputs": [],
   "source": [
    "neuton_descent = NeutonMethod(target_func=target_function,\n",
    "                              initial_x=np.array([10.,10.,10.]),\n",
    "                              grad_step_size=0.001,\n",
    "                              step_size=1,\n",
    "                              adaptive_beta=0.5,\n",
    "                              adaptive_epselon=0.25)"
   ]
  },
  {
   "cell_type": "code",
   "execution_count": null,
   "metadata": {},
   "outputs": [],
   "source": [
    "eps = 0.001\n",
    "num_itter = 0\n",
    "previous_x = neuton_descent.x + eps + 1\n",
    "\n",
    "while not grad_abs_stop(NeutonMethod.compose_grad_vec(f=neuton_descent.f, \n",
    "                                                      h=neuton_descent.step_size, \n",
    "                                                      x=neuton_descent.x), eps):\n",
    "    num_itter +=1\n",
    "    print('\\nItteration: {}'.format(num_itter))\n",
    "    \n",
    "    previous_x = neuton_descent.x\n",
    "    neuton_descent.zero_grad()\n",
    "    # Compute gradient and gesse matrix\n",
    "    neuton_descent.backward()\n",
    "    # x_k+1 = x_k + h_k\n",
    "    neuton_descent.step()\n",
    "    neuton_descent.info()\n",
    "    \n",
    "print('\\nConverged in {} itterations'.format(num_itter))"
   ]
  },
  {
   "cell_type": "markdown",
   "metadata": {},
   "source": [
    "Застосуємо метод найшвидшого спупску"
   ]
  },
  {
   "cell_type": "code",
   "execution_count": null,
   "metadata": {},
   "outputs": [],
   "source": [
    "neuton_descent = NeutonMethod(target_func=target_function,\n",
    "                              initial_x=np.array([1.,1.,1.]),\n",
    "                              step_size=1,\n",
    "                              grad_step_size=0.00001,\n",
    "                              fastest_descent_eps=0.00001)"
   ]
  },
  {
   "cell_type": "code",
   "execution_count": null,
   "metadata": {},
   "outputs": [],
   "source": [
    "eps = 0.001\n",
    "num_itter = 0\n",
    "previous_x = neuton_descent.x + eps + 1\n",
    "\n",
    "while not grad_abs_stop(NeutonMethod.compose_grad_vec(f=neuton_descent.f,\n",
    "                                                      h=neuton_descent.step_size,\n",
    "                                                      x=neuton_descent.x), eps):\n",
    "    num_itter +=1\n",
    "    print('\\nItteration: {}'.format(num_itter))\n",
    "    \n",
    "    previous_x = neuton_descent.x\n",
    "    neuton_descent.zero_grad()\n",
    "    # Compute gradient and gesse matrix\n",
    "    neuton_descent.backward()\n",
    "    # x_k+1 = x_k + h_k\n",
    "    neuton_descent.step()\n",
    "    neuton_descent.info()\n",
    "    \n",
    "print('\\nConverged in {} itterations'.format(num_itter))"
   ]
  },
  {
   "cell_type": "code",
   "execution_count": null,
   "metadata": {},
   "outputs": [],
   "source": []
  }
 ],
 "metadata": {
  "kernelspec": {
   "display_name": "Python 3",
   "language": "python",
   "name": "python3"
  },
  "language_info": {
   "codemirror_mode": {
    "name": "ipython",
    "version": 3
   },
   "file_extension": ".py",
   "mimetype": "text/x-python",
   "name": "python",
   "nbconvert_exporter": "python",
   "pygments_lexer": "ipython3",
   "version": "3.6.5"
  }
 },
 "nbformat": 4,
 "nbformat_minor": 2
}
