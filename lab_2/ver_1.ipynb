{
 "cells": [
  {
   "cell_type": "code",
   "execution_count": 1,
   "metadata": {},
   "outputs": [],
   "source": [
    "import numpy as np\n",
    "np.set_printoptions(suppress=True,precision=7)"
   ]
  },
  {
   "cell_type": "markdown",
   "metadata": {},
   "source": [
    "# Лабораторна робота №2"
   ]
  },
  {
   "cell_type": "markdown",
   "metadata": {},
   "source": [
    "## Цільова функція:"
   ]
  },
  {
   "cell_type": "markdown",
   "metadata": {},
   "source": [
    "$$11x^2 + 14y^2 + z^2 + 0,01xy - 0,001yz - y$$"
   ]
  },
  {
   "cell_type": "code",
   "execution_count": 2,
   "metadata": {},
   "outputs": [],
   "source": [
    "target_function = lambda x: 11*x[0]**2 + 14*x[1]**2 + x[2]**2 + 0.01*x[0]*x[1] - 0.001*x[1]*x[2] - x[1]"
   ]
  },
  {
   "cell_type": "markdown",
   "metadata": {},
   "source": [
    "## Умови зупинки:"
   ]
  },
  {
   "cell_type": "markdown",
   "metadata": {},
   "source": [
    "$$||x^{k+1} - x^k||\\leq\\epsilon$$"
   ]
  },
  {
   "cell_type": "code",
   "execution_count": 3,
   "metadata": {},
   "outputs": [],
   "source": [
    "def x_norm_stop(x_prev,x_cur,epselon):\n",
    "    return np.linalg.norm(x_prev-x_cur) < epselon"
   ]
  },
  {
   "cell_type": "markdown",
   "metadata": {},
   "source": [
    "$$||f(x^{k+1}) - f(x^k)||\\leq\\epsilon$$"
   ]
  },
  {
   "cell_type": "code",
   "execution_count": 4,
   "metadata": {},
   "outputs": [],
   "source": [
    "def func_abs_stop(func_prev,func_cur,epselon):\n",
    "    return abs(func_prev - func_cur) < epselon"
   ]
  },
  {
   "cell_type": "markdown",
   "metadata": {},
   "source": [
    "$$||f'(x^{k+1})||\\leq\\epsilon$$"
   ]
  },
  {
   "cell_type": "code",
   "execution_count": 5,
   "metadata": {},
   "outputs": [],
   "source": [
    "def grad_abs_stop(grad,epselon):\n",
    "    return np.linalg.norm(grad)<epselon"
   ]
  },
  {
   "cell_type": "markdown",
   "metadata": {},
   "source": [
    "## Метод Ньютона"
   ]
  },
  {
   "cell_type": "markdown",
   "metadata": {},
   "source": [
    "Застосуємо метод з величиною кроку = 1"
   ]
  },
  {
   "cell_type": "code",
   "execution_count": 54,
   "metadata": {},
   "outputs": [],
   "source": [
    "class NeutonMethod:\n",
    "    \n",
    "    def __init__(self,target_func,initial_x,grad_step_size):\n",
    "        self.f = target_func\n",
    "        self.x = initial_x\n",
    "        \n",
    "        self.f_value = self.f(self.x)\n",
    "        \n",
    "        self.grad_step_size = grad_step_size\n",
    "        \n",
    "        self.grad = None\n",
    "        self.gesse_matrix = None\n",
    "        \n",
    "    @staticmethod\n",
    "    def first_partial_deriv(f,x,h,var_num):\n",
    "        x_back, x_forward = x.copy(), x.copy()\n",
    "        \n",
    "        # Increase x_back in such a way: (x-h;y)\n",
    "        x_back[var_num] = x_back[var_num] - h \n",
    "        # Increase x_forward in such a way: (x+h;y)\n",
    "        x_forward[var_num] = x_forward[var_num] + h\n",
    "        \n",
    "        return (f(x_forward) - f(x_back))/(2*h)\n",
    "    \n",
    "    @staticmethod\n",
    "    def compose_grad_vec(f,x,h):\n",
    "        # Compose vector from partial derivatives\n",
    "        return np.array([NeutonMethod.first_partial_deriv(f,x,h,i) for i in range(x.shape[0])])\n",
    "    \n",
    "    @staticmethod\n",
    "    def second_partial_deriv(f,x,h,var_1_num,var_2_num):\n",
    "        x_back_back, x_back_for, x_for_back, x_for_for = x.copy(), x.copy(), x.copy(), x.copy()\n",
    "        \n",
    "        # Increase x_back_back in such a way: (x+h;y+h)\n",
    "        x_back_back[var_1_num] = x_back_back[var_1_num] -h\n",
    "        x_back_back[var_2_num] = x_back_back[var_2_num] -h\n",
    "        \n",
    "        # Increase x_back_for in such a way: (x-h;y+h)\n",
    "        x_back_for[var_1_num] = x_back_for[var_1_num] -h\n",
    "        x_back_for[var_2_num] = x_back_for[var_2_num] +h\n",
    "        \n",
    "        # Increase x_for_back in such a way: (x+h;y-h)\n",
    "        x_for_back[var_1_num] = x_for_back[var_1_num] +h\n",
    "        x_for_back[var_2_num] = x_for_back[var_2_num] -h\n",
    "        \n",
    "        # Increase x_for_for in such a way: (x-h;y-h)\n",
    "        x_for_for[var_1_num] = x_for_for[var_1_num] +h\n",
    "        x_for_for[var_2_num] = x_for_for[var_2_num] +h\n",
    "        \n",
    "        return (f(x_back_back) - f(x_back_for) - f(x_for_back) + f(x_for_for))/(4*h**2)\n",
    "    \n",
    "    @staticmethod\n",
    "    def compose_gesse_matrix(f,x,h):\n",
    "        gesse_matrix = np.zeros((x.shape[0],x.shape[0]))\n",
    "        \n",
    "        # Fill elements only under and in diagonal and copy elements upper diagonal (Gesse matrix is semetric)\n",
    "        for i in range(a.shape[0]):\n",
    "            for j in range(i+1):\n",
    "                gesse_matrix[i,j] = NeutonMethod.second_partial_deriv(f,x,h,i,j)\n",
    "                gesse_matrix[j,i] = gesse_matrix[i,j]\n",
    "                \n",
    "        return gesse_matrix\n",
    "\n",
    "        \n",
    "    def backward(self):\n",
    "        self.grad = NeutonMethod.compose_grad_vec(self.f, self.x, self.grad_step_size) \n",
    "        self.gesse_matrix = NeutonMethod.compose_gesse_matrix(self.f, self.x, self.grad_step_size)\n",
    "        \n",
    "    def zero_grad(self):\n",
    "        self.grad = np.zeros(self.x.shape[0])\n",
    "        self.gesse_matrix = np.zeros((self.x.shape[0],self.x.shape[0]))\n",
    "        \n",
    "    def step(self):\n",
    "        # x_k+1 = x_k - inversed(f(x_k)'')f(x_k)'\n",
    "        self.x = self.x - np.linalg.inv(self.gesse_matrix) @ self.grad\n",
    "        self.f_value = self.f(self.x)\n",
    "        \n",
    "    def info(self):\n",
    "        print('Current x: {}'.format(self.x))\n",
    "        print('Current f(x): {}'.format(self.f_value))\n",
    "        print('Current grad: {}'.format(self.grad))\n",
    "        print('Current gesse matrix:\\n {}'.format(self.gesse_matrix))\n",
    "        print('Gradient step size: {}'.format(self.grad_step_size))"
   ]
  },
  {
   "cell_type": "code",
   "execution_count": 55,
   "metadata": {},
   "outputs": [],
   "source": [
    "neuton_descent = NeutonMethod(target_func=target_function,\n",
    "                              initial_x=np.array([10.,10.,10.]),\n",
    "                              grad_step_size=0.00001)"
   ]
  },
  {
   "cell_type": "code",
   "execution_count": 56,
   "metadata": {},
   "outputs": [
    {
     "name": "stdout",
     "output_type": "stream",
     "text": [
      "\n",
      "Itteration: 1\n",
      "Current x: [ 0.0003966  0.0353187 -0.0075965]\n",
      "Current f(x): -0.01779510688827444\n",
      "Current grad: [220.1       279.0899999  19.99     ]\n",
      "Current gesse matrix:\n",
      " [[22.0006768  0.0102318  0.       ]\n",
      " [ 0.0102318 27.9987944 -0.0011369]\n",
      " [ 0.        -0.0011369  1.9986146]]\n",
      "Gradient step size: 1e-05\n",
      "\n",
      "Itteration: 2\n",
      "Current x: [-0.0000162  0.0357143  0.0000179]\n",
      "Current f(x): -0.017857146074907817\n",
      "Current grad: [ 0.0090781 -0.0110651 -0.0152283]\n",
      "Current gesse matrix:\n",
      " [[22.     0.01   0.   ]\n",
      " [ 0.01  28.    -0.001]\n",
      " [ 0.    -0.001  2.   ]]\n",
      "Gradient step size: 1e-05\n",
      "\n",
      "Itteration: 3\n",
      "Current x: [-0.0000162  0.0357143  0.0000179]\n",
      "Current f(x): -0.017857146074907817\n",
      "Current grad: [-0. -0. -0.]\n",
      "Current gesse matrix:\n",
      " [[22.     0.01   0.   ]\n",
      " [ 0.01  28.    -0.001]\n",
      " [ 0.    -0.001  2.   ]]\n",
      "Gradient step size: 1e-05\n",
      "\n",
      "Converged in 3 itterations\n"
     ]
    }
   ],
   "source": [
    "eps = 0.00001\n",
    "num_itter = 0\n",
    "previous_x = neuton_descent.x + eps + 1\n",
    "\n",
    "while not x_norm_stop(neuton_descent.x,previous_x,eps):\n",
    "    num_itter +=1\n",
    "    print('\\nItteration: {}'.format(num_itter))\n",
    "    \n",
    "    previous_x = neuton_descent.x\n",
    "    neuton_descent.zero_grad()\n",
    "    # Compute gradient and gesse matrix\n",
    "    neuton_descent.backward()\n",
    "    # x_k+1 = x_k + h_k\n",
    "    neuton_descent.step()\n",
    "    neuton_descent.info()\n",
    "    \n",
    "print('\\nConverged in {} itterations'.format(num_itter))"
   ]
  }
 ],
 "metadata": {
  "kernelspec": {
   "display_name": "Python 3",
   "language": "python",
   "name": "python3"
  },
  "language_info": {
   "codemirror_mode": {
    "name": "ipython",
    "version": 3
   },
   "file_extension": ".py",
   "mimetype": "text/x-python",
   "name": "python",
   "nbconvert_exporter": "python",
   "pygments_lexer": "ipython3",
   "version": "3.6.5"
  }
 },
 "nbformat": 4,
 "nbformat_minor": 2
}
